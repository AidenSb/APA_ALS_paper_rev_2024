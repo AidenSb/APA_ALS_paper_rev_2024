{
 "cells": [
  {
   "cell_type": "code",
   "execution_count": 1,
   "metadata": {},
   "outputs": [],
   "source": [
    "import os, random\n",
    "from unicodedata import name\n",
    "import pandas as pd\n",
    "import numpy as np\n",
    "import scipy.stats as stats\n",
    "import torch\n",
    "import torch.nn as nn\n",
    "import torch.nn.functional as F\n",
    "from torch.utils.data import DataLoader\n",
    "from model import APANET, APAData\n",
    "from train_script import build_dataloaders\n",
    "import pickle\n",
    "# from sklearn.metrics import confusion_matrix\n",
    "import matplotlib.pyplot as plt\n",
    "import seaborn as sns"
   ]
  },
  {
   "cell_type": "code",
   "execution_count": 4,
   "metadata": {},
   "outputs": [],
   "source": [
    "MODELS_ROOT = '/data/users/goodarzilab/aiden/projects/APA/codes/CNN_MATTs/APA-Net_2024_05_08_v2/'\n",
    "DATA_ROOT = '/data/users/goodarzilab/aiden/projects/APA/input_data/2024_rev/22May/significant'"
   ]
  },
  {
   "cell_type": "code",
   "execution_count": 5,
   "metadata": {},
   "outputs": [],
   "source": [
    "# initialize the model\n",
    "config = {\n",
    "        \"batch_size\":128,\n",
    "        \"epochs\": 100,\n",
    "        \"project_name\": 'test_performace',\n",
    "        \"device\": 'cuda:03',\n",
    "        \"opt\": \"Adam\",\n",
    "        \"loss\": \"mse\",\n",
    "        \"lr\": 2.5e-05,\n",
    "        \"adam_weight_decay\": 0.09, # 0.06 before\n",
    "        \"conv1kc\": 128, #128, 64\n",
    "        \"conv1ks\": 12,\n",
    "        \"conv1st\": 1,\n",
    "        \"pool1ks\": 16,\n",
    "        \"pool1st\": 16,\n",
    "        \"cnvpdrop1\": 0,\n",
    "        \"Matt_heads\": 8,\n",
    "        \"Matt_drop\": 0.2,\n",
    "        \"fc1_dims\": [\n",
    "            8192, # 8192, 5120\n",
    "            4048,\n",
    "            1024,\n",
    "            512,\n",
    "            256,\n",
    "        ],  # first dimension will be calculated dynamically\n",
    "        \"fc1_dropouts\": [0.25, 0.25, 0.25, 0, 0],\n",
    "        \"fc2_dims\": [128, 32, 16, 1],  # first dimension will be calculated dynamically\n",
    "        \"fc2_dropouts\": [0.2, 0.2, 0, 0],\n",
    "        'psa_query_dim': 128, # make sure this is correct\n",
    "        'psa_num_layers': 1,\n",
    "        'psa_nhead': 1,\n",
    "        'psa_dim_feedforward':1024,\n",
    "        'psa_dropout': 0 \n",
    "    }\n",
    "\n",
    "def get_model(model_path='model.pth'):\n",
    "    model = APANET(config)\n",
    "    model.load_state_dict(torch.load(model_path, map_location=torch.device('cuda:3')))\n",
    "    model.eval()\n",
    "    return model"
   ]
  },
  {
   "cell_type": "code",
   "execution_count": 6,
   "metadata": {},
   "outputs": [],
   "source": [
    "# get model performace for test data\n",
    "def get_performance(model, data_loader):\n",
    "    model.eval()\n",
    "    y_pred = []\n",
    "    y_true = []\n",
    "    celltypes = []\n",
    "    switch_names = []\n",
    "    with torch.no_grad():\n",
    "        for seq_X, Y, celltype, celltype_name, switch_name in data_loader:\n",
    "            outputs = torch.squeeze(model(seq_X, celltype))\n",
    "            y_pred.append(outputs.cpu().numpy())\n",
    "            y_true.append(Y.cpu().numpy())\n",
    "            celltypes.append(celltype_name)\n",
    "            switch_names.append(switch_name)\n",
    "    y_pred = np.concatenate(y_pred)\n",
    "    y_true = np.concatenate(y_true)\n",
    "    celltypes = np.concatenate(celltypes)\n",
    "    switch_names = np.concatenate(switch_names)\n",
    "    return y_pred, y_true, celltypes, switch_names"
   ]
  },
  {
   "cell_type": "code",
   "execution_count": 7,
   "metadata": {},
   "outputs": [
    {
     "data": {
      "text/html": [
       "<div>\n",
       "<style scoped>\n",
       "    .dataframe tbody tr th:only-of-type {\n",
       "        vertical-align: middle;\n",
       "    }\n",
       "\n",
       "    .dataframe tbody tr th {\n",
       "        vertical-align: top;\n",
       "    }\n",
       "\n",
       "    .dataframe thead th {\n",
       "        text-align: right;\n",
       "    }\n",
       "</style>\n",
       "<table border=\"1\" class=\"dataframe\">\n",
       "  <thead>\n",
       "    <tr style=\"text-align: right;\">\n",
       "      <th></th>\n",
       "      <th>y_pred</th>\n",
       "      <th>y_true</th>\n",
       "      <th>celltypes</th>\n",
       "      <th>switch_names</th>\n",
       "      <th>fold</th>\n",
       "    </tr>\n",
       "  </thead>\n",
       "  <tbody>\n",
       "    <tr>\n",
       "      <th>0</th>\n",
       "      <td>-0.126883</td>\n",
       "      <td>-0.243074</td>\n",
       "      <td>Astro</td>\n",
       "      <td>chr6:AARS2:44299560:44300312:-</td>\n",
       "      <td>fold_0</td>\n",
       "    </tr>\n",
       "    <tr>\n",
       "      <th>1</th>\n",
       "      <td>-0.170426</td>\n",
       "      <td>0.463603</td>\n",
       "      <td>Astro</td>\n",
       "      <td>chr17:ACADVL:7222082:7225225:+</td>\n",
       "      <td>fold_0</td>\n",
       "    </tr>\n",
       "    <tr>\n",
       "      <th>2</th>\n",
       "      <td>0.357559</td>\n",
       "      <td>-0.104181</td>\n",
       "      <td>Astro</td>\n",
       "      <td>chr1:ACP6:147647368:147649817:-</td>\n",
       "      <td>fold_0</td>\n",
       "    </tr>\n",
       "    <tr>\n",
       "      <th>3</th>\n",
       "      <td>-0.505027</td>\n",
       "      <td>0.436450</td>\n",
       "      <td>Astro</td>\n",
       "      <td>chr1:ACP6:147649817:147659061:-</td>\n",
       "      <td>fold_0</td>\n",
       "    </tr>\n",
       "    <tr>\n",
       "      <th>4</th>\n",
       "      <td>-0.948004</td>\n",
       "      <td>-0.619300</td>\n",
       "      <td>Astro</td>\n",
       "      <td>chr15:ACSBG1:78169717:78170845:-</td>\n",
       "      <td>fold_0</td>\n",
       "    </tr>\n",
       "  </tbody>\n",
       "</table>\n",
       "</div>"
      ],
      "text/plain": [
       "     y_pred    y_true celltypes                      switch_names    fold\n",
       "0 -0.126883 -0.243074     Astro    chr6:AARS2:44299560:44300312:-  fold_0\n",
       "1 -0.170426  0.463603     Astro    chr17:ACADVL:7222082:7225225:+  fold_0\n",
       "2  0.357559 -0.104181     Astro   chr1:ACP6:147647368:147649817:-  fold_0\n",
       "3 -0.505027  0.436450     Astro   chr1:ACP6:147649817:147659061:-  fold_0\n",
       "4 -0.948004 -0.619300     Astro  chr15:ACSBG1:78169717:78170845:-  fold_0"
      ]
     },
     "execution_count": 7,
     "metadata": {},
     "output_type": "execute_result"
    }
   ],
   "source": [
    "perfdf = pd.DataFrame()\n",
    "for i in range(5):\n",
    "    model = get_model(f'{MODELS_ROOT}model_outs/significant/model_out_fold{i}.pt').to('cuda:3')\n",
    "    test_data = np.load(f'{DATA_ROOT}/test_fold_{i}.npy', allow_pickle=True)\n",
    "    _, test_loader = build_dataloaders(\n",
    "            'cuda:3',\n",
    "            test_data,\n",
    "            test_data,\n",
    "            config[\"batch_size\"],\n",
    "        )\n",
    "    y_pred, y_true, celltypes, switch_names = get_performance(model, test_loader)\n",
    "    fold_column = [f'fold_{i}']*len(y_pred)\n",
    "    perfdf = pd.concat([perfdf, pd.DataFrame({'y_pred': y_pred, 'y_true': y_true, 'celltypes': celltypes, 'switch_names': switch_names, 'fold': fold_column})])\n",
    "    valid_R = stats.pearsonr(perfdf['y_true'], perfdf['y_pred'])\n",
    "perfdf.head()"
   ]
  },
  {
   "cell_type": "code",
   "execution_count": 8,
   "metadata": {},
   "outputs": [],
   "source": [
    "# save the performance dataframe\n",
    "perfdf.to_csv('test_set_performance.csv', index=False)"
   ]
  },
  {
   "cell_type": "code",
   "execution_count": 9,
   "metadata": {},
   "outputs": [
    {
     "data": {
      "text/plain": [
       "PearsonRResult(statistic=0.5854367301153052, pvalue=0.0)"
      ]
     },
     "execution_count": 9,
     "metadata": {},
     "output_type": "execute_result"
    }
   ],
   "source": [
    "stats.pearsonr(perfdf['y_true'], perfdf['y_pred'])"
   ]
  },
  {
   "cell_type": "code",
   "execution_count": 10,
   "metadata": {},
   "outputs": [
    {
     "data": {
      "text/plain": [
       "Inh          8217\n",
       "Exc_upper    6851\n",
       "OPC          6200\n",
       "Astro        5789\n",
       "Microglia    5755\n",
       "Oligo        5681\n",
       "Exc_deep     4561\n",
       "Exc_int      4250\n",
       "Name: celltypes, dtype: int64"
      ]
     },
     "execution_count": 10,
     "metadata": {},
     "output_type": "execute_result"
    }
   ],
   "source": [
    "perfdf['celltypes'].value_counts()"
   ]
  },
  {
   "cell_type": "code",
   "execution_count": null,
   "metadata": {},
   "outputs": [],
   "source": []
  }
 ],
 "metadata": {
  "kernelspec": {
   "display_name": "for_DL",
   "language": "python",
   "name": "python3"
  },
  "language_info": {
   "codemirror_mode": {
    "name": "ipython",
    "version": 3
   },
   "file_extension": ".py",
   "mimetype": "text/x-python",
   "name": "python",
   "nbconvert_exporter": "python",
   "pygments_lexer": "ipython3",
   "version": "3.10.8"
  }
 },
 "nbformat": 4,
 "nbformat_minor": 2
}
